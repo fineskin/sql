{
 "cells": [
  {
   "cell_type": "markdown",
   "id": "5cb7e88c",
   "metadata": {},
   "source": [
    "**Данные для следующих задач: Airbnb в Берлине. Не забывайте о преобразовании столбцов к нужному типу данных!**\n",
    "\n",
    "\n",
    "**Сначала оставьте только те объявления, в которых оценка на основе отзывов выше среднего, а число отзывов в месяц составляет строго меньше трёх. Затем отсортируйте по убыванию две колонки: сначала по числу отзывов в месяц, потом по оценке. В качестве ответа укажите id объявления из первой строки.**\n",
    "\n",
    "* review_scores_rating – оценка на основе отзывов\n",
    "* reviews_per_month – число отзывов в месяц\n",
    "* id – идентификатор объявления\n",
    "\n",
    "Таблица – **listings**. Наивысшие показатели = сортировка по убыванию.\n",
    "\n",
    "\n",
    "Ответ: `22476940`\n"
   ]
  },
  {
   "cell_type": "markdown",
   "id": "f7e1815f",
   "metadata": {},
   "source": [
    "```sql\n",
    "SELECT \n",
    "    id,\n",
    "    toFloat64OrNull(review_scores_rating) as review_scores_rating,\n",
    "    reviews_per_month as reviews_per_month\n",
    "FROM\n",
    "    listings\n",
    "where reviews_per_month < 3 and review_scores_rating > (\n",
    "                                                        select \n",
    "                                                            avg(toFloat64OrNull(review_scores_rating)) \n",
    "                                                        from \n",
    "                                                            listings)\n",
    "order by reviews_per_month desc, review_scores_rating desc\n",
    "limit 1\n",
    "```"
   ]
  },
  {
   "cell_type": "markdown",
   "id": "f20a3770",
   "metadata": {},
   "source": [
    "\n",
    "**4. Посчитайте среднее расстояние до центра города и выведите идентификаторы объявлений о сдаче отдельных комнат, для которых расстояние оказалось меньше среднего. Результат отсортируйте по убыванию, тем самым выбрав комнату, которая является наиболее удаленной от центра, но при этом расположена ближе, чем остальные комнаты в среднем.** \n",
    "\n",
    "* id – идентификатор объявления\n",
    "* host_id – идентификатор хозяина\n",
    "* room_type – тип жилья ('Private room')\n",
    "* latitude – широта\n",
    "* longitude – долгота\n",
    "* 52.5200 с.ш., 13.4050 в.д – координаты центра Берлина\n",
    "\n",
    "**В качестве ответа укажите идентификатор хозяина (host_id), сдающего данную комнату.**\n",
    "\n",
    "* geoDistance(13.4050, 52.5200, долгота, широта)\n",
    "\n",
    "Note: задание можно решить как используя подзапрос в WHERE, так и с помощью WITH. При подсчете среднего тип комнаты тоже следует учесть.\n",
    "\n",
    "\n",
    "Ответ: `163065208`"
   ]
  },
  {
   "cell_type": "markdown",
   "id": "344c02d5",
   "metadata": {},
   "source": [
    "```sql\n",
    "SELECT \n",
    "    id,\n",
    "    host_id,\n",
    "    geoDistance(13.4050, 52.5200, toFloat32OrNull(longitude), toFloat32OrNull(latitude)) as distance\n",
    "FROM\n",
    "    listings\n",
    "where room_type = 'Private room' and distance < (\n",
    "    select \n",
    "        avg(geoDistance(13.4050, 52.5200, toFloat32OrNull(longitude), toFloat32OrNull(latitude)))\n",
    "    from \n",
    "        listings\n",
    "    where room_type = 'Private room'\n",
    "    )\n",
    "order by distance desc\n",
    "limit 100\n",
    "```"
   ]
  },
  {
   "cell_type": "markdown",
   "id": "c1786b61",
   "metadata": {},
   "source": [
    "**5. Представим, что вы планируете снять жилье в Берлине на 7 дней, используя более хитрые фильтры, чем предлагаются на сайте.**\n",
    "\n",
    "**В этой задаче можно потренироваться в написании подзапросов, но задание можно решить и без них.**\n",
    "\n",
    "**Отберите объявления из таблицы listings, которые:**\n",
    "\n",
    "* находятся на расстоянии от центра меньше среднего (здесь нам пригодится запрос из предыдущего задания)\n",
    "* обойдутся дешевле 100$ в день (price с учетом cleaning_fee, который добавляется к общей сумме за неделю, т.е его нужно делить на кол-во дней)\n",
    "* имеют последние отзывы (last_review), начиная с 1 сентября 2018 года\n",
    "* имеют WiFi в списке удобств (amenities)\n",
    "\n",
    "**Отсортируйте полученные значения по убыванию review_scores_rating (не забудьте перевести строку к численному виду) и в качестве ответа укажите host_id из первой строки.** \n",
    "\n",
    "Hint: [документация](https://clickhouse.tech/docs/ru/sql-reference/functions/string-search-functions/#function-multisearchany) по функции **multiSearchAnyCaseInsensitive(колонка, ['искомая_подстрока'])**, которая ищет заданную подстроку в строке вне зависимости от регистра и выдает 0 в случае, если подстрока не была найдена.\n",
    "\n",
    "\n",
    "\n",
    "Ответ: `39740677`"
   ]
  },
  {
   "cell_type": "markdown",
   "id": "66bdce4a",
   "metadata": {},
   "source": [
    "```sql\n",
    "SELECT \n",
    "    id,\n",
    "    host_id,\n",
    "    toFloat32OrNull(review_scores_rating) as review_scores_rating,\n",
    "    geoDistance(13.4050, 52.5200, toFloat32OrNull(longitude), toFloat32OrNull(latitude)) as distance,\n",
    "    last_review,\n",
    "    toFloat32OrNull(replaceRegexpAll(cleaning_fee, '[$,]', '')) / 7 + toFloat32OrNull(replaceRegexpAll(price, '[$,]', '')) as price_per_day\n",
    "FROM listings\n",
    "WHERE last_review > '2018-09-01' and multiSearchAnyCaseInsensitive(amenities, ['WIFI']) = 1 and distance < (\n",
    "SELECT avg(geoDistance(13.4050, 52.5200, toFloat32OrNull(longitude), toFloat32OrNull(latitude))) from listings\n",
    ") and price_per_day < 100\n",
    "order by review_scores_rating desc\n",
    "LIMIT 100\n",
    "```"
   ]
  },
  {
   "cell_type": "markdown",
   "id": "1535d418",
   "metadata": {},
   "source": [
    "**6. Давайте найдем в таблице calendar_summary те доступные (available='t') объявления, у которых число отзывов от уникальных пользователей в таблице reviews выше среднего.**\n",
    "\n",
    "**Для этого с помощью конструкции WITH посчитайте среднее число уникальных reviewer_id из таблицы reviews на каждое жильё, потом проведите джойн таблиц calendar_summary и reviews по полю listing_id (при этом из таблицы calendar_summary должны быть отобраны уникальные listing_id, отфильтрованные по правилу available='t'). Результат отфильтруйте так, чтобы остались только записи, у которых число отзывов от уникальных людей выше среднего.**\n",
    "\n",
    "**Отсортируйте результат по возрастанию listing_id и в качестве ответа впишите количество отзывов от уникальных пользователей из первой строки.**\n",
    "\n",
    "Hint: для решения проблем со вложенными агрегационными функциями (и агрегационными функциями там, где их не ждут) как раз очень помогут подзапросы.\n",
    "\n",
    "\n",
    "Ответ: `118`"
   ]
  },
  {
   "cell_type": "markdown",
   "id": "fe1f1993",
   "metadata": {},
   "source": [
    "```sql\n",
    "WITH (\n",
    "    SELECT \n",
    "        AVG(count_reviewer_id) \n",
    "    FROM\n",
    "        (SELECT \n",
    "            listing_id, COUNT(DISTINCT reviewer_id) AS count_reviewer_id\n",
    "        FROM \n",
    "            reviews AS re\n",
    "        JOIN \n",
    "        (SELECT \n",
    "            DISTINCT listing_id\n",
    "        FROM \n",
    "            calendar_summary\n",
    "        WHERE \n",
    "            available = 't'\n",
    "        ) AS cs\n",
    "        ON cs.listing_id = re.listing_id\n",
    "        GROUP BY  listing_id\n",
    "        ORDER BY listing_id\n",
    "        )) AS avg_reviewers\n",
    "\n",
    "SELECT \n",
    "    listing_id, COUNT(DISTINCT reviewer_id) AS count_reviewers \n",
    "FROM \n",
    "    reviews AS re\n",
    "JOIN (\n",
    "    SELECT \n",
    "        DISTINCT listing_id \n",
    "    FROM \n",
    "        calendar_summary\n",
    "    WHERE \n",
    "        available = 't'\n",
    "    ) AS cs\n",
    "ON cs.listing_id = re.listing_id \n",
    "GROUP BY listing_id\n",
    "HAVING count_reviewers > avg_reviewers\n",
    "ORDER BY listing_id\n",
    "LIMIT 100\n",
    "```"
   ]
  },
  {
   "cell_type": "markdown",
   "id": "3997848f",
   "metadata": {},
   "source": [
    "---------------\n",
    "**Возвращаемся к данными мобильного приложения!**\n",
    "\n",
    "**installs** — содержит данные об установках приложения по дням.\n",
    "\n",
    "* DeviceID — идентификатор устройства, на которое было установлено приложение;\n",
    "* InstallationDate — дата установки приложения;\n",
    "* InstallCost — цена установки приложения в рублях;\n",
    "* Platform — платформа, на которой было установлено приложение (iOS/ Android);\n",
    "* Source — источник установки приложения (магазин приложения/ рекламная система/ переход с сайта).\n",
    "\n",
    "**events** — содержит данные о том, как активно пользователи просматривают товары в приложении по дням.\n",
    "\n",
    "* DeviceID — идентификатор устройства, на котором используется приложение;\n",
    "* AppPlatform — платформа, на которой используется приложение (iOS/ Android);\n",
    "* EventDate — дата, за которую собрана статистика;\n",
    "* events — количество просмотров всех товаров за этот день у этого DeviceID.\n",
    "\n",
    "**checks** — содержит данные о покупках пользователей в приложении по дням\n",
    "\n",
    "* UserID — идентификатор пользователя;\n",
    "* Rub — суммарный чек пользователя на дату;\n",
    "* BuyDate — дата, за которую собрана статистика.\n",
    "\n",
    "**devices** – чтобы просмотры и установки можно было объединить с покупками\n",
    "\n",
    "* DeviceID — идентификатор устройства;\n",
    "* UserID — идентификатор пользователя.\n",
    "\n",
    "**7. С помощью оператора CASE в SQL можно составлять условные конструкции, выполнять проверку условий и возвращать результат в зависимости от их выполнения. Самих условий под оператором WHEN может быть сколько угодно, конструкцию необходимо завершить оператором END. Структура выглядит следующим образом:**\n",
    "\n",
    "    \n",
    "* **WHERE price > 1000 THEN 'ok' ELSE 'not ok' END**\n",
    "* **CASE WHEN price>1000 THEN 'ok' WHEN price<500 THEN 'not ok' ELSE 'normal' END**\n",
    "* CASE WHEN price > 1000 THEN 'ok' ELSE 'not ok'\n"
   ]
  },
  {
   "cell_type": "markdown",
   "id": "e931621b",
   "metadata": {},
   "source": [
    "**8. Теперь задача! Используйте таблицу checks и разделите всех покупателей на сегменты:**\n",
    "\n",
    "NB! Правые границы берутся не включительно, например, чек в 10 рублей будет относиться к сегменту С\n",
    "\n",
    "* А — средний чек покупателя менее 5 ₽\n",
    "* B — средний чек покупателя от 5-10 ₽\n",
    "* C — средний чек покупателя от 10-20 ₽\n",
    "* D — средний чек покупателя от 20 ₽\n",
    "\n",
    "**Отсортируйте результирующую таблицу по возрастанию UserID и укажите сегмент четвертого пользователя.**\n",
    "\n",
    "\n",
    "* C\n",
    "* D\n",
    "* A\n",
    "* B\n"
   ]
  },
  {
   "cell_type": "markdown",
   "id": "ea56258c",
   "metadata": {},
   "source": [
    "```sql\n",
    "SELECT \n",
    "    UserID, \n",
    "    CASE\n",
    "        WHEN AVG(Rub) < 5 THEN 'A'\n",
    "        WHEN AVG(Rub) >= 5 and AVG(Rub) < 10 THEN 'B'\n",
    "        WHEN AVG(Rub) >= 10 and AVG(Rub) < 20 THEN 'C'\n",
    "        ELSE 'D'\n",
    "    END AS segment\n",
    "FROM \n",
    "    checks\n",
    "GROUP BY UserID\n",
    "ORDER BY UserID\n",
    "LIMIT 100\n",
    "```"
   ]
  },
  {
   "cell_type": "markdown",
   "id": "5aaaf92d",
   "metadata": {},
   "source": [
    "**9. Используйте предыдущий запрос как подзапрос и посчитайте, сколько клиентов приходится на каждый сегмент и сколько доходов он приносит. Отсортируйте результат по убыванию суммы доходов на сегмент и в качестве ответа укажите наибольшую сумму.**\n",
    "\n",
    "Ответ: `250551286`"
   ]
  },
  {
   "cell_type": "markdown",
   "id": "87550f88",
   "metadata": {},
   "source": [
    "```sql\n",
    "SELECT\n",
    "    segment, count(UserID), SUM(Rub) AS Revenue\n",
    "FROM\n",
    "    checks\n",
    "JOIN \n",
    "    (SELECT \n",
    "        UserID,\n",
    "    CASE\n",
    "        WHEN AVG(Rub) < 5 THEN 'A'\n",
    "        WHEN AVG(Rub) >= 5 AND AVG(Rub) < 10 THEN 'B'\n",
    "        WHEN AVG(Rub) >= 10 AND AVG(Rub) < 20 THEN 'C'\n",
    "        ELSE 'D'\n",
    "    END AS segment\n",
    "    FROM \n",
    "        checks\n",
    "    GROUP BY UserID\n",
    "    ORDER BY UserID\n",
    "    ) AS segments\n",
    "ON segments.UserID = checks.UserID\n",
    "GROUP BY segment\n",
    "ORDER BY Revenue DESC\n",
    "```"
   ]
  },
  {
   "cell_type": "markdown",
   "id": "9e11acae",
   "metadata": {},
   "source": [
    "**10. Вернемся к таблице AirBnb. Предположим, что в выборе жилья нас интересует только два параметра: наличие кухни (kitchen) и гибкой системы отмены (flexible), причем первый в приоритете.**\n",
    "\n",
    "**Создайте с помощью оператора CASE колонку с обозначением группы, в которую попадает жилье из таблицы listings:**\n",
    "\n",
    "* 'good', если в удобствах (amenities) присутствует кухня и система отмены (cancellation_policy) гибкая\n",
    "* 'ok', если в удобствах есть кухня, но система отмены не гибкая\n",
    "* 'not ok' во всех остальных случаях\n",
    "\n",
    "**Результат отсортируйте по новой колонке по возрастанию, установите ограничение в 5 строк, в качестве ответа укажите host_id первой строки.**\n",
    "\n",
    "**Обратите внимание, что cancellation_policy - это отдельная колонка, по ней необходимо смотреть систему отмены**\n",
    "\n",
    "\n",
    "Ответ: `27607502`\n"
   ]
  },
  {
   "cell_type": "markdown",
   "id": "1ee38395",
   "metadata": {},
   "source": [
    "```sql\n",
    "SELECT \n",
    "    host_id,\n",
    "    CASE\n",
    "        WHEN multiSearchAnyCaseInsensitive(amenities, ['kitchen'])!=0 AND cancellation_policy = 'flexible' THEN 'good'\n",
    "        WHEN multiSearchAnyCaseInsensitive(amenities, ['kitchen'])!=0 AND cancellation_policy != 'flexible' THEN 'ok'\n",
    "        ELSE 'not ok'\n",
    "    END AS category\n",
    "FROM \n",
    "    listings\n",
    "ORDER BY category\n",
    "LIMIT 5\n",
    "```"
   ]
  },
  {
   "cell_type": "markdown",
   "id": "5e7c3a64",
   "metadata": {},
   "source": [
    "------------------\n",
    "## Часть 2.\n",
    "\n",
    "**1. Сопоставьте операторы с соответствующим описанием**\n",
    "\n",
    "INSERT INTO - **Записать данные в таблицу**\n",
    "\n",
    "DROP COLUMN - **Удалить столбец**\n",
    "\n",
    "DROP TABLE - **Удалить таблицу**\n",
    "\n",
    "ADD COLUMN - **Добавить столбец**\n",
    "\n",
    "DELETE WHERE - **Удалить строки, где выполняется условие**\n",
    "\n",
    "\n",
    "**2. Напишите запрос для создания таблицы со следующими параметрами, также подобрав подходящий тип данных.**\n",
    "\n",
    "Название таблицы: **reviews**\n",
    "\n",
    "База данных: **test**\n",
    "\n",
    "**Столбцы:**\n",
    "\n",
    "- listing_id – идентификатор объявления, может быть только положительным и целым числом, 32-битный тип данных\n",
    "\n",
    "- id – идентификатор хозяина, может быть только положительным и целым числом, 32-битный тип данных\n",
    "\n",
    "- created_at – дата со временем (2020-01-01 00:00:00), часовой пояс – 'Europe/Moscow'\n",
    "\n",
    "- reviewer_id – идентификатор ревьюера, может быть только положительным и целым числом, 32-битный тип данных\n",
    "\n",
    "- reviewer_name – имя того, кто оставил отзыв\n",
    "\n",
    "- comments - текст отзыва\n",
    "\n",
    "Движок: **MergeTree**\n",
    "\n",
    "Сортировка: **listing_id, id**"
   ]
  },
  {
   "cell_type": "markdown",
   "id": "cd9f90e4",
   "metadata": {},
   "source": [
    "```sql\n",
    "CREATE TABLE test.reviews\n",
    "    (listing_id UInt32,\n",
    "    id UInt32,\n",
    "    create_at DateTime('Europe/Moscow'),\n",
    "    reviewer_id UInt32,\n",
    "    reviewer_name String,\n",
    "    comments String)\n",
    "    ENGINE = MergeTree\n",
    "ORDER BY (listing_id, id)\n",
    "```"
   ]
  },
  {
   "cell_type": "markdown",
   "id": "f03c34f3",
   "metadata": {},
   "source": [
    "**3. К вам пришел коллега с новостями: оказывается, в поле date будет записываться только дата, без времени, поэтому нужно изменить тип данных!**\n",
    "\n",
    "**Напишите запрос, который модифицирует тип данных, и введите его в поле ниже без кавычек и лишних пробелов. Не забудьте указать базу данных test перед названием таблицы!**\n"
   ]
  },
  {
   "cell_type": "markdown",
   "id": "5564134c",
   "metadata": {},
   "source": [
    "```sql\n",
    "ALTER TABLE test.reviews MODIFY COLUMN date Date\n",
    "```"
   ]
  },
  {
   "cell_type": "markdown",
   "id": "42170480",
   "metadata": {},
   "source": [
    "**4. Предположим, ваш коллега вставил данные, но что-то перепутал. Часть строк с комментариями осталась совершенно пустой!** \n",
    "\n",
    "**Напишите запрос, который удалит из таблицы test.reviews те строки, где в столбце comments встречаются пустые значения (''). Введите его в поле ниже без кавычек и лишних пробелов.**\n"
   ]
  },
  {
   "cell_type": "markdown",
   "id": "0ac30e11",
   "metadata": {},
   "source": [
    "```sql\n",
    "ALTER TABLE test.reviews_zxc DELETE WHERE comments = ''\n",
    "```"
   ]
  },
  {
   "cell_type": "markdown",
   "id": "5bdbe083",
   "metadata": {},
   "source": [
    "**5. С помощью какого запроса можно создать обычное представление над таблицей test.reviews, которое будет содержать все записи из test.reviews, сгруппированные по reviewer_id с подсчитанным количеством отзывов (id) на каждого пользователя?**\n",
    "\n",
    "* **CREATE VIEW test.reviews_number AS (SELECT reviewer_id, COUNT(id) reviews_count FROM test.reviews GROUP BY reviewer_id)**\n",
    "* CREATE VIEW test.reviews_number AS (SELECT reviewer_id, SUM(id) reviews_count GROUP BY reviewer_id)\n",
    "* ALTER TABLE test.reviews_number UPDATE id = COUNT(id)\n",
    "* CREATE MATERIALIZED VIEW test.reviews_number AS (SELECT reviewer_id, COUNT(id) reviews_count GROUP BY reviewer_id)\n",
    "* CREATE TABLE IF NOT EXISTS test.reviews_number AS (SELECT reviewer_id, COUNT(id) reviews_count GROUP BY reviewer_id)\n"
   ]
  },
  {
   "cell_type": "markdown",
   "id": "fea3d463",
   "metadata": {},
   "source": [
    "**6. С помощью какого запроса можно создать новый столбец reviewer_score в таблице reviews после столбца reviewer_name?**\n",
    "\n",
    "* ALTER TABLE test.reviews AFTER reviewer_name ADD COLUMN reviewer_score UInt8\n",
    "* **ALTER TABLE test.reviews ADD COLUMN reviewer_score UInt8 AFTER reviewer_name**\n",
    "* ALTER TABLE test.reviews ADD COLUMN reviewer_score UInt8\n",
    "* ALTER TABLE test.reviews AFTER reviewer_name INSERT reviewer_score UInt8\n",
    "* ALTER TABLE test.reviews INSERT COLUMN reviewer_score UInt8 AFTER reviewer_name\n"
   ]
  },
  {
   "cell_type": "markdown",
   "id": "02197c12",
   "metadata": {},
   "source": [
    "**7. Напишите запрос для добавления в таблицу test.reviews колонки price после колонки comments, которая может быть числом с плавающей точкой, 32-битный тип данных.**\n"
   ]
  },
  {
   "cell_type": "markdown",
   "id": "eb3f8755",
   "metadata": {},
   "source": [
    "```sql\n",
    "ALTER TABLE test.reviews ADD COLUMN price Float32 AFTER comments\n",
    "```"
   ]
  },
  {
   "cell_type": "markdown",
   "id": "d9c2877b",
   "metadata": {},
   "source": [
    "**8. Напишите запрос, который удвоит price для всех строк с датой (date) после 2019-01-01.**\n",
    "\n",
    "**Обратите внимание, что для сравнения с датой в формате '2019-01-01' можно не преобразовывать данные в колонке date.**\n",
    "\n",
    "Note: ответ введите без лишних пробелов между операциями умножения и сравнения и знака '='.\n"
   ]
  },
  {
   "cell_type": "markdown",
   "id": "00018d7a",
   "metadata": {},
   "source": [
    "```sql\n",
    "ALTER TABLE test.reviews UPDATE price=price*2 WHERE date>'2019-01-01'\n",
    "```"
   ]
  }
 ],
 "metadata": {
  "kernelspec": {
   "display_name": "Python 3 (ipykernel)",
   "language": "python",
   "name": "python3"
  },
  "language_info": {
   "codemirror_mode": {
    "name": "ipython",
    "version": 3
   },
   "file_extension": ".py",
   "mimetype": "text/x-python",
   "name": "python",
   "nbconvert_exporter": "python",
   "pygments_lexer": "ipython3",
   "version": "3.11.4"
  }
 },
 "nbformat": 4,
 "nbformat_minor": 5
}
