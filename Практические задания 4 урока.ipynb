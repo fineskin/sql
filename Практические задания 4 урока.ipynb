{
 "cells": [
  {
   "cell_type": "markdown",
   "id": "d77db2dd",
   "metadata": {},
   "source": [
    "**2. На Airbnb есть две основные группы пользователей:**\n",
    "\n",
    "* Хозяева (хосты, hosts) – сдают жилье\n",
    "* Путешественники (travelers) – снимают\n",
    "\n",
    "**Начнем с анализа характеристик хозяев в таблице listings!**\n",
    "\n",
    "**Пользователи, сдающие квартиры на Airbnb, зарегистрировались в разное время. Кто-то – очень давно, а кто-то совсем недавно. Давайте проверим, в какой месяц и год зарегистрировалось наибольшее количество новых хостов. В качестве ответа введите дату следующего формата: 2010-12**\n",
    "\n",
    "* host_id – идентификатор хозяина\n",
    "* host_since – дата регистрации как хост\n",
    "\n",
    "Note: Сам хост может встретиться в таблице несколько раз, если сдает несколько помещений, поэтому не забудьте оставить уникальные значения host_id. Также обратите внимание на тип данных в host_since, возможно вам пригодится toStartOfMonth() для извлечения части даты и toDateOrNull() для обработки пустых значений.\n",
    "\n",
    "\n",
    "Ответ: `2015-07`"
   ]
  },
  {
   "cell_type": "markdown",
   "id": "219d84d8",
   "metadata": {},
   "source": [
    "```sql\n",
    "SELECT \n",
    "    toStartOfMonth(toDateOrNull(host_since)) as start_of_month, \n",
    "    count(DISTINCT host_id) as NumHosts\n",
    "FROM listings\n",
    "GROUP BY start_of_month\n",
    "ORDER BY NumHosts desc\n",
    "limit 100\n",
    "```"
   ]
  },
  {
   "cell_type": "markdown",
   "id": "c7f52706",
   "metadata": {},
   "source": [
    "**3. Посмотрим на среднюю частоту ответа среди хозяев (f) и суперхозяев (t).**\n",
    "\n",
    "**Значения частоты ответа хранятся как строки и включают значок %, который необходимо заменить на пустоту (''). После этого приведите столбец к нужному типу данных с помощью toInt32OrNull() и посчитайте среднюю частоту отклика в разбивке по тому, является ли хост суперхозяином или нет. В качестве ответа укажите наибольшее среднее.**\n",
    "\n",
    "* host_response_rate – частота ответа\n",
    "* host_is_superhost – является ли суперхозяином\n",
    "\n",
    "Важный момент: у каждого host_id есть только одно уникальное значение частоты ответа, а также одна единая отметка суперхозяина. Чтобы посчитать показатели честно, нужно использовать подзапрос и взять уникальные комбинации с помощью DISTINCT.\n",
    "\n",
    "\n",
    "Ответ: `98`"
   ]
  },
  {
   "cell_type": "markdown",
   "id": "b4662c53",
   "metadata": {},
   "source": [
    "```sql\n",
    "SELECT \n",
    "    host_is_superhost,\n",
    "    avg(toInt32OrNull(replaceRegexpAll(host_response_rate, '%', ''))) as avg_rate, \n",
    "    min(toInt32OrNull(replaceRegexpAll(host_response_rate, '%', ''))) as min_rate,\n",
    "    max(toInt32OrNull(replaceRegexpAll(host_response_rate, '%', ''))) as max_rate\n",
    "FROM (\n",
    "    select distinct host_id, host_is_superhost, host_response_rate\n",
    "    from listings\n",
    "    where host_is_superhost != ''\n",
    "    )\n",
    "GROUP BY host_is_superhost\n",
    "order by avg_rate desc\n",
    "```"
   ]
  },
  {
   "cell_type": "markdown",
   "id": "cfd709a9",
   "metadata": {},
   "source": [
    "**4. Сгруппируйте данные из listings по хозяевам (host_id) и посчитайте, какую цену за ночь в среднем каждый из них устанавливает (у одного хоста может быть несколько объявлений). Идентификаторы сдаваемого жилья объедините в отдельный массив. Таблицу отсортируйте по убыванию средней цены и убыванию host_id (в таком порядке). В качестве ответа укажите первый массив в результирующей таблице, состоящий более чем из двух id. Например:**\n",
    "\n",
    "2343477,6340,32324\n",
    "\n",
    "* host_id – идентификатор хозяина\n",
    "* id – идентификатор жилья\n",
    "* price – цена за ночь в конкретном месте\n",
    "\n",
    "\n",
    "Ответ: `25757977,25759146,25802565,25802651,25802838,25802909,25803050,25803117,25803218,25803260`"
   ]
  },
  {
   "cell_type": "markdown",
   "id": "7aa1569c",
   "metadata": {},
   "source": [
    "```sql\n",
    "SELECT \n",
    "    host_id,\n",
    "    groupArray(id),\n",
    "    groupArray(price),\n",
    "    AVG(toFloat64OrNull(replaceRegexpAll(price, '[$, ]', ''))) AS AvgPricePerHost\n",
    "FROM\n",
    "    listings\n",
    "GROUP BY host_id\n",
    "HAVING length(groupArray(price)) > 1\n",
    "order by AvgPricePerHost desc, host_id desc\n",
    "limit 100\n",
    "```"
   ]
  },
  {
   "cell_type": "markdown",
   "id": "334b4983",
   "metadata": {},
   "source": [
    "**5. Немного усложним предыдущую задачу, и посчитаем разницу между максимальной и минимальной установленной ценой у каждого хозяина. В качестве ответа укажите идентификатор хоста, у которого разница оказалась наибольшей.**\n",
    "\n",
    "* host_id – идентификатор хозяина\n",
    "* id – идентификатор жилья\n",
    "* price – цена за ночь в конкретном месте\n",
    "\n",
    "\n",
    "Ответ: `155140624`"
   ]
  },
  {
   "cell_type": "markdown",
   "id": "7fdffdee",
   "metadata": {},
   "source": [
    "```sql\n",
    "SELECT \n",
    "    host_id,\n",
    "    groupArray(id),\n",
    "    max(toFloat64OrNull(replaceRegexpAll(price, '[$, ]', ''))) - min(toFloat64OrNull(replaceRegexpAll(price, '[$, ]', ''))) as price_diff\n",
    "    \n",
    "FROM\n",
    "    listings\n",
    "GROUP BY host_id\n",
    "order by price_diff desc\n",
    "limit 100\n",
    "```"
   ]
  },
  {
   "cell_type": "markdown",
   "id": "c6f9ef7b",
   "metadata": {},
   "source": [
    "**6. Теперь сгруппируйте данные по типу жилья и выведите средние значения цены за ночь, размера депозита и цены уборки. Обратите внимание на тип данных, наличие значка $ и запятых в больших суммах. Для какого типа жилья среднее значение залога наибольшее?**\n",
    "\n",
    "* room_type – тип сдаваемого жилья \n",
    "* price – цена за ночь\n",
    "* security_deposit – залог за сохранность имущества\n",
    "* cleaning_fee – плата за уборку\n",
    "\n",
    "\n",
    "\n",
    "Ответ:\n",
    "* **Entire home/apt**\n",
    "* Private room\n",
    "* Shared room\n"
   ]
  },
  {
   "cell_type": "markdown",
   "id": "5f069aaf",
   "metadata": {},
   "source": [
    "```sql\n",
    "SELECT \n",
    "    room_type,\n",
    "    avg(toFloat32OrNull(replaceRegexpAll(price, '[$,]',''))) as AvgPrice,\n",
    "    avg(toFloat32OrNull(replaceRegexpAll(security_deposit, '[$,]',''))) as AvgSecDeposit,\n",
    "    avg(toFloat32OrNull(replaceRegexpAll(cleaning_fee, '[$,]',''))) as AvgCleaningFee\n",
    "FROM\n",
    "    listings\n",
    "Group by room_type\n",
    "order by AvgSecDeposit desc\n",
    "limit 100\n",
    "```"
   ]
  },
  {
   "cell_type": "markdown",
   "id": "069940d7",
   "metadata": {},
   "source": [
    "**7. Отлично! В каких частях города средняя стоимость за ночь является наиболее низкой?**\n",
    "\n",
    "**Сгруппируйте данные по neighbourhood_cleansed и посчитайте среднюю цену за ночь в каждом районе. В качестве ответа введите название места, где средняя стоимость за ночь ниже всего.**\n",
    "\n",
    "* price – цена за ночь\n",
    "* neighbourhood_cleansed – район/округ города\n",
    "\n",
    "\n",
    "Ответ: `Neu-Hohenschönhausen Süd`"
   ]
  },
  {
   "cell_type": "markdown",
   "id": "f600fa88",
   "metadata": {},
   "source": [
    "```sql\n",
    "SELECT \n",
    "    neighbourhood_cleansed,\n",
    "    avg(toFloat32OrNull(replaceRegexpAll(price, '[$,]', ''))) as avg_price\n",
    "FROM\n",
    "    listings\n",
    "Group by neighbourhood_cleansed\n",
    "order by avg_price\n",
    "limit 100\n",
    "```"
   ]
  },
  {
   "cell_type": "markdown",
   "id": "e29ab1ce",
   "metadata": {},
   "source": [
    "**8. В каких районах Берлина средняя площадь жилья, которое сдаётся целиком, является наибольшей? Отсортируйте по среднему и выберите топ-3.**\n",
    "\n",
    "* neighbourhood_cleansed – район\n",
    "* square_feet – площадь\n",
    "* room_type – тип (нужный – 'Entire home/apt')\n",
    "\n",
    "\n",
    "* Mitte\n",
    "* **Schöneberg-Süd**\n",
    "* Nord 1\n",
    "* **Kaulsdorf**\n",
    "* **Lichtenrade**\n",
    "* Baumschulenweg\n"
   ]
  },
  {
   "cell_type": "markdown",
   "id": "39b5f8f5",
   "metadata": {},
   "source": [
    "```sql\n",
    "SELECT \n",
    "    neighbourhood_cleansed,\n",
    "    avg(toFloat32OrNull(square_feet)) as avg_square_feet\n",
    "FROM\n",
    "    listings\n",
    "WHERE room_type = 'Entire home/apt'\n",
    "GROUP BY neighbourhood_cleansed\n",
    "ORDER BY avg_square_feet desc\n",
    "limit 3\n",
    "```"
   ]
  },
  {
   "cell_type": "markdown",
   "id": "2ae814a7",
   "metadata": {},
   "source": [
    "**9. Напоследок давайте посмотрим, какая из представленных комнат расположена ближе всего к центру города. В качестве ответа укажите id объявления.**\n",
    "\n",
    "* id – идентификатор жилья (объявления)\n",
    "* room_type – тип жилья ('Private room')\n",
    "* latitude – широта\n",
    "* longitude – долгота\n",
    "* 52.5200 с.ш., 13.4050 в.д – координаты центра Берлина\n",
    "\n",
    "\n",
    "Ответ: `19765058`"
   ]
  },
  {
   "cell_type": "markdown",
   "id": "999fafbf",
   "metadata": {},
   "source": [
    "```sql\n",
    "SELECT \n",
    "    id,\n",
    "    geoDistance(13.4050, 52.5200, toFloat32OrNull(longitude), toFloat32OrNull(latitude)) as distance\n",
    "FROM\n",
    "    listings\n",
    "WHERE room_type = 'Private room'\n",
    "ORDER BY distance\n",
    "limit 1\n",
    "```"
   ]
  }
 ],
 "metadata": {
  "kernelspec": {
   "display_name": "Python 3 (ipykernel)",
   "language": "python",
   "name": "python3"
  },
  "language_info": {
   "codemirror_mode": {
    "name": "ipython",
    "version": 3
   },
   "file_extension": ".py",
   "mimetype": "text/x-python",
   "name": "python",
   "nbconvert_exporter": "python",
   "pygments_lexer": "ipython3",
   "version": "3.11.4"
  }
 },
 "nbformat": 4,
 "nbformat_minor": 5
}
